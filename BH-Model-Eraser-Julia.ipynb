{
 "cells": [
  {
   "cell_type": "code",
   "execution_count": 1,
   "id": "dcb25c26",
   "metadata": {},
   "outputs": [],
   "source": [
    "using LinearAlgebra \n",
    "using UnicodePlots \n",
    "using StaticArrays \n",
    "using SparseArrays\n",
    "#Variables globales N,M,D\n",
    "global N=3;\n",
    "global M=3;\n",
    "global D=Int((factorial(M+N-1))/(factorial(M-1)*factorial(N)))\n",
    "#funcion primos \n",
    "#function p(i) \n",
    "#     return 100i + 3 \n",
    "#end \n",
    "p(i)=100i+3\n",
    "#Generamos la base en orden lexicografico para N=M=3\n",
    "v = []; \n",
    "i=1;\n",
    "for n1 in 0:N  \n",
    "    for n2 in 0:(N-n1)  \n",
    "        for n3 in 0:(N-n1-n2)  \n",
    "            if n1+n2+n3 != N\n",
    "                continue \n",
    "            end\n",
    "            pushfirst!(v, [n1,n2,n3]) \n",
    "        end\n",
    "    end\n",
    "end   \n",
    "\n",
    "#hacer un vector estatico \n",
    "#v = reverse(v)  \n",
    "##v = SVector{D,Vector}(v)\n",
    "# reverse!(v)  "
   ]
  },
  {
   "cell_type": "code",
   "execution_count": 2,
   "id": "29186e7e",
   "metadata": {},
   "outputs": [
    {
     "data": {
      "text/plain": [
       "tag (generic function with 1 method)"
      ]
     },
     "execution_count": 2,
     "metadata": {},
     "output_type": "execute_result"
    }
   ],
   "source": [
    "function tag(b,M)\n",
    "    tag=0;\n",
    "    for i in 1:M\n",
    "        tag += (√p(i))*b[i] \n",
    "    end\n",
    "    return tag \n",
    "end"
   ]
  },
  {
   "cell_type": "code",
   "execution_count": 3,
   "id": "4eb7f985",
   "metadata": {},
   "outputs": [
    {
     "data": {
      "text/plain": [
       "creation_ann (generic function with 1 method)"
      ]
     },
     "execution_count": 3,
     "metadata": {},
     "output_type": "execute_result"
    }
   ],
   "source": [
    "function creation_ann(k,j,v)     \n",
    "    if(v[j] >= 1) \n",
    "        b = copy(v)\n",
    "        value = sqrt(((b[k])+1)*b[j])\n",
    "        b[j] -= 1; \n",
    "        b[k] += 1;    \n",
    "        return [value , b]   \n",
    "    else \n",
    "        return 0; \n",
    "    end \n",
    "end   "
   ]
  },
  {
   "cell_type": "code",
   "execution_count": 8,
   "id": "7b4e2d8c",
   "metadata": {},
   "outputs": [
    {
     "data": {
      "text/plain": [
       "valdiags (generic function with 1 method)"
      ]
     },
     "execution_count": 8,
     "metadata": {},
     "output_type": "execute_result"
    }
   ],
   "source": [
    "#Valores de la diagonal de los numeros de ocupacion\n",
    "function valdiags(k, v, M)  \n",
    "    if(v[k] >= 1)  \n",
    "        return  (v[k]*(v[k]-1))/2  \n",
    "    else \n",
    "        return 0;\n",
    "    end  \n",
    "end       "
   ]
  },
  {
   "cell_type": "code",
   "execution_count": 5,
   "id": "161a407f",
   "metadata": {},
   "outputs": [],
   "source": [
    "#Array de tags \n",
    "T = []\n",
    "for i in 1:length(v) \n",
    "     push!(T,  tag( v[i] , M )) \n",
    "end"
   ]
  },
  {
   "cell_type": "code",
   "execution_count": 6,
   "id": "94e4174a",
   "metadata": {},
   "outputs": [
    {
     "data": {
      "text/plain": [
       "Dict{Any, Int64} with 10 entries:\n",
       "  30.4467 => 1\n",
       "  34.5456 => 2\n",
       "  42.7434 => 7\n",
       "  44.9627 => 6\n",
       "  41.8036 => 5\n",
       "  49.0616 => 9\n",
       "  38.6445 => 4\n",
       "  37.7047 => 3\n",
       "  45.9025 => 8\n",
       "  52.2207 => 10"
      ]
     },
     "execution_count": 6,
     "metadata": {},
     "output_type": "execute_result"
    }
   ],
   "source": [
    "#Ordenamos y hacemos un diccionario Tsorted => indices\n",
    "#sort!(T) \n",
    "#Tsorted = sort(T) \n",
    "inds = sortperm(T);\n",
    "Tsorted = T[inds];\n",
    "DictOfInds = Dict(zip(Tsorted, inds)) \n",
    "#Dict(inds .=> Tsorted)"
   ]
  },
  {
   "cell_type": "code",
   "execution_count": 21,
   "id": "06ff77c8",
   "metadata": {},
   "outputs": [
    {
     "name": "stdout",
     "output_type": "stream",
     "text": [
      "Any[3.0, 1.0, 1.0, 1.0, 0.0, 1.0, 3.0, 1.0, 1.0, 3.0]\n",
      "\n",
      " 3.0   ⋅    ⋅    ⋅    ⋅    ⋅    ⋅    ⋅    ⋅    ⋅ \n",
      "  ⋅   1.0   ⋅    ⋅    ⋅    ⋅    ⋅    ⋅    ⋅    ⋅ \n",
      "  ⋅    ⋅   1.0   ⋅    ⋅    ⋅    ⋅    ⋅    ⋅    ⋅ \n",
      "  ⋅    ⋅    ⋅   1.0   ⋅    ⋅    ⋅    ⋅    ⋅    ⋅ \n",
      "  ⋅    ⋅    ⋅    ⋅    ⋅    ⋅    ⋅    ⋅    ⋅    ⋅ \n",
      "  ⋅    ⋅    ⋅    ⋅    ⋅   1.0   ⋅    ⋅    ⋅    ⋅ \n",
      "  ⋅    ⋅    ⋅    ⋅    ⋅    ⋅   3.0   ⋅    ⋅    ⋅ \n",
      "  ⋅    ⋅    ⋅    ⋅    ⋅    ⋅    ⋅   1.0   ⋅    ⋅ \n",
      "  ⋅    ⋅    ⋅    ⋅    ⋅    ⋅    ⋅    ⋅   1.0   ⋅ \n",
      "  ⋅    ⋅    ⋅    ⋅    ⋅    ⋅    ⋅    ⋅    ⋅   3.0\n"
     ]
    },
    {
     "data": {
      "text/plain": [
       "      \u001b[38;5;8m┌─────┐\u001b[0m    \n",
       "    \u001b[38;5;8m1\u001b[0m \u001b[38;5;8m│\u001b[0m\u001b[38;5;1m⠑\u001b[0m\u001b[38;5;1m⠤\u001b[0m⠀⠀⠀\u001b[38;5;8m│\u001b[0m \u001b[38;5;1m> 0\u001b[0m\n",
       "   \u001b[38;5;8m10\u001b[0m \u001b[38;5;8m│\u001b[0m⠀⠀\u001b[38;5;1m⠈\u001b[0m\u001b[38;5;1m⠒\u001b[0m\u001b[38;5;1m⢄\u001b[0m\u001b[38;5;8m│\u001b[0m \u001b[38;5;4m< 0\u001b[0m\n",
       "      \u001b[38;5;8m└─────┘\u001b[0m    \n",
       "      ⠀\u001b[38;5;8m1\u001b[0m⠀\u001b[38;5;8m\u001b[0m⠀\u001b[38;5;8m10\u001b[0m⠀    \n",
       "      9 nonzeros    "
      ]
     },
     "execution_count": 21,
     "metadata": {},
     "output_type": "execute_result"
    }
   ],
   "source": [
    "#for t in 1:10\n",
    "#    J=10\n",
    "#    U=t*J*0.1 \n",
    "#obtener H_int \n",
    "    diagscomp = [];\n",
    "    for j in 1:D \n",
    "        sumsdeocup = []; \n",
    "        for k in 1:M\n",
    "        push!(sumsdeocup, valdiags(k, v[j], M))\n",
    "        end  \n",
    "    push!(diagscomp, sum(sumsdeocup))    \n",
    "    end   \n",
    "    #Mostramos la parte  \n",
    "    println(diagscomp)\n",
    "    Hint = spzeros(D,D)\n",
    "    Hint[diagind(Hint)] = diagscomp; Hint \n",
    "    println(Hint)\n",
    "    #Hint=diagm(diagscomp) \n",
    "    spy(Hint)\n",
    "#end  "
   ]
  },
  {
   "cell_type": "code",
   "execution_count": 16,
   "id": "55b3c0ec",
   "metadata": {},
   "outputs": [
    {
     "name": "stdout",
     "output_type": "stream",
     "text": [
      "2\n"
     ]
    }
   ],
   "source": [
    "#obtener H_kin  \n",
    "J = 5\n",
    "Hkin = spzeros(D,D)\n",
    "#println(DictOfInds[tag(creation_ann( 2, 1 , v[1])[2],M)])\n",
    "#println(Dict1[\"b\"])\n",
    "#println(Dict1[\"c\"]) \n",
    "#     J=10\n",
    "#     #obtener H_kin\n",
    "for k in 1:D\n",
    "    for j in 1:M\n",
    "     end \n",
    "end \n",
    "#             if v[k][j]==0\n",
    "#                 continue \n",
    "#             end\n",
    "#             if j <= (M-2)\n",
    "#                 aa=creacion_aniquilacion(j+1,j,v,k)\n",
    "#                 fila.append(aa[0])\n",
    "#                 columna.append(k)\n",
    "#                 valoresH.append((-J)*aa[1])\n",
    "#             else\n",
    "#                 aa=creacion_aniquilacion(0,j,v,k)\n",
    "#                 fila.append(aa[0])\n",
    "#                 columna.append(k)\n",
    "#                 valoresH.append((-J)*aa[1])   \n",
    "#             end\n",
    "#             if j>=1\n",
    "#                 aa=creacion_aniquilacion(j-1,j,v,k)\n",
    "#                 fila.append(aa[0])\n",
    "#                 columna.append(k)\n",
    "#                 valoresH.append((-J)*aa[1])\n",
    "#             else\n",
    "#                 aa=creacion_aniquilacion(M-1,j,v,k)\n",
    "#                 fila.append(aa[0])\n",
    "#                 columna.append(k)\n",
    "#                 valoresH.append((-J)*aa[1])   \n",
    "#             end\n",
    "#         end \n"
   ]
  },
  {
   "cell_type": "code",
   "execution_count": 9,
   "id": "ba5ad0fe",
   "metadata": {},
   "outputs": [
    {
     "name": "stdout",
     "output_type": "stream",
     "text": [
      "Any[2, 3]\n"
     ]
    }
   ],
   "source": [
    "#a = rand(2,2) \n",
    "#b = [1,2]   \n",
    "#indices que pertenecen a la primera columna \n",
    "firstcolumn = []\n",
    "for k in 1:M \n",
    "    for h in 1:M   \n",
    "        if k == h \n",
    "            break \n",
    "        elseif creation_ann(k,h,v[1]) == 0 \n",
    "            continue \n",
    "        else \n",
    "            push!(firstcolumn, DictOfInds[tag(creation_ann( k, h , v[1] )[2],M)] )   \n",
    "        end\n",
    "    end \n",
    "end \n",
    "println(firstcolumn) \n",
    "#DictOfInds[tag(creation_ann( 3, 1 , [3,0,0] )[2],M)] \n",
    "#creation_ann(3,1,v[1]) \n",
    "#creation_ann(1,3,v[1])  \n",
    "#creation_ann(2,1,v[2]) \n",
    "#v"
   ]
  },
  {
   "cell_type": "code",
   "execution_count": 16,
   "id": "eac45a35",
   "metadata": {},
   "outputs": [
    {
     "name": "stdout",
     "output_type": "stream",
     "text": [
      "\n",
      "   ⋅          ⋅          ⋅         ⋅         ⋅         ⋅         ⋅          ⋅     ⋅        ⋅ \n",
      " -8.66025     ⋅          ⋅         ⋅         ⋅         ⋅         ⋅          ⋅     ⋅        ⋅ \n",
      " -8.66025   -5.0         ⋅         ⋅         ⋅         ⋅         ⋅          ⋅     ⋅        ⋅ \n",
      "   ⋅       -10.0         ⋅         ⋅         ⋅         ⋅         ⋅          ⋅     ⋅        ⋅ \n",
      "   ⋅        -7.07107   -7.07107  -7.07107    ⋅         ⋅         ⋅          ⋅     ⋅        ⋅ \n",
      "   ⋅          ⋅       -10.0        ⋅       -7.07107    ⋅         ⋅          ⋅     ⋅        ⋅ \n",
      "   ⋅          ⋅          ⋅       -8.66025    ⋅         ⋅         ⋅          ⋅     ⋅        ⋅ \n",
      "   ⋅          ⋅          ⋅       -5.0      -7.07107    ⋅       -8.66025     ⋅     ⋅        ⋅ \n",
      "   ⋅          ⋅          ⋅         ⋅       -7.07107  -5.0        ⋅       -10.0    ⋅        ⋅ \n",
      "   ⋅          ⋅          ⋅         ⋅         ⋅       -8.66025    ⋅          ⋅   -8.66025   ⋅ \n"
     ]
    },
    {
     "data": {
      "text/plain": [
       "      \u001b[38;5;8m┌─────┐\u001b[0m    \n",
       "    \u001b[38;5;8m1\u001b[0m \u001b[38;5;8m│\u001b[0m\u001b[38;5;4m⢦\u001b[0m\u001b[38;5;4m⣀\u001b[0m⠀⠀⠀\u001b[38;5;8m│\u001b[0m \u001b[38;5;1m> 0\u001b[0m\n",
       "   \u001b[38;5;8m10\u001b[0m \u001b[38;5;8m│\u001b[0m⠀\u001b[38;5;4m⠑\u001b[0m\u001b[38;5;4m⢧\u001b[0m\u001b[38;5;4m⠢\u001b[0m\u001b[38;5;4m⡀\u001b[0m\u001b[38;5;8m│\u001b[0m \u001b[38;5;4m< 0\u001b[0m\n",
       "      \u001b[38;5;8m└─────┘\u001b[0m    \n",
       "      ⠀\u001b[38;5;8m1\u001b[0m⠀\u001b[38;5;8m\u001b[0m⠀\u001b[38;5;8m10\u001b[0m⠀    \n",
       "      18 nonzeros    "
      ]
     },
     "execution_count": 16,
     "metadata": {},
     "output_type": "execute_result"
    }
   ],
   "source": [
    "J = 5\n",
    "Hkin = spzeros(D,D)\n",
    "firstcolumn = [] \n",
    "for j in 1:D\n",
    "    for k in 1:M \n",
    "        for h in 1:M   \n",
    "            if k == h \n",
    "                break \n",
    "            elseif creation_ann(k,h,v[j]) == 0 \n",
    "                continue \n",
    "            else \n",
    "                 Hkin[DictOfInds[tag(creation_ann( k, h , v[j] )[2],M)], j] = -J*(creation_ann( k, h , v[j])[1])     \n",
    "            end\n",
    "        end \n",
    "    end  \n",
    "end  \n",
    "#Hkin = Symmetric(Hkin, :L)\n",
    "println(Hkin)  \n",
    "spy(Hkin)"
   ]
  },
  {
   "cell_type": "code",
   "execution_count": 87,
   "id": "9f6e9407",
   "metadata": {},
   "outputs": [
    {
     "data": {
      "text/plain": [
       "10-element Vector{Any}:\n",
       " [3, 0, 0]\n",
       " [2, 1, 0]\n",
       " [2, 0, 1]\n",
       " [1, 2, 0]\n",
       " [1, 1, 1]\n",
       " [1, 0, 2]\n",
       " [0, 3, 0]\n",
       " [0, 2, 1]\n",
       " [0, 1, 2]\n",
       " [0, 0, 3]"
      ]
     },
     "execution_count": 87,
     "metadata": {},
     "output_type": "execute_result"
    }
   ],
   "source": [
    "#creation_ann(2,1,v[1]) It works! \n",
    "v"
   ]
  },
  {
   "cell_type": "code",
   "execution_count": 10,
   "id": "f9a17d90",
   "metadata": {},
   "outputs": [],
   "source": [
    "# arr = [0,0,3,0];  \n",
    "# arr[1];\n",
    "# v[2] \n",
    "# function sumyprod(x,y) \n",
    "#     suma = x+y \n",
    "#     prod = x*y \n",
    "#     return suma, prod \n",
    "# end \n",
    "# for i in 1:10 \n",
    "#     for j in 1:3\n",
    "#         println(i, j, sumyprod(i , j) )\n",
    "#     end \n",
    "# end"
   ]
  },
  {
   "cell_type": "code",
   "execution_count": 11,
   "id": "21d1fb4a",
   "metadata": {},
   "outputs": [],
   "source": [
    "#creation_ann(1,2,v[2])\n",
    "#tag(creation_ann(1,2,v[10]), M)  \n",
    "#valdiags(10, v[10]) \n",
    "#v[2]"
   ]
  },
  {
   "cell_type": "code",
   "execution_count": 13,
   "id": "b4c7fcdf",
   "metadata": {},
   "outputs": [],
   "source": [
    "# for j in 1:10\n",
    "#     cont = 0;\n",
    "#     for i in 1:10  \n",
    "#         cont+= i   \n",
    "#         if(cont == 55)\n",
    "#             println(cont, \" \", j) \n",
    "#         end\n",
    "#     end \n",
    "# end  \n",
    "#valdiags(1, v[5], M)\n"
   ]
  },
  {
   "cell_type": "code",
   "execution_count": 14,
   "id": "32a945dc",
   "metadata": {},
   "outputs": [],
   "source": [
    "#obtener H_int \n",
    "#     for t in 1:10\n",
    "#     J=10\n",
    "#     U=t*J*0.1\n",
    "#     for k in 1:D\n",
    "#         for j in range(M)\n",
    "#             valoresH.append((U/2)*v[k][j]*(v[k][j]-1))\n",
    "#             fila.append(k)\n",
    "#             columna.append(k) \n",
    "#         end \n",
    "#     end\n",
    "\n",
    "#     #obtener H_kin\n",
    "#     for k in 1:D\n",
    "#         for j in 1:M\n",
    "#             if v[k][j]==0\n",
    "#                 continue \n",
    "#             end\n",
    "#             if j<=M-2\n",
    "#                 aa=creacion_aniquilacion(j+1,j,v,k)\n",
    "#                 fila.append(aa[0])\n",
    "#                 columna.append(k)\n",
    "#                 valoresH.append((-J)*aa[1])\n",
    "#             else\n",
    "#                 aa=creacion_aniquilacion(0,j,v,k)\n",
    "#                 fila.append(aa[0])\n",
    "#                 columna.append(k)\n",
    "#                 valoresH.append((-J)*aa[1])   \n",
    "#             end\n",
    "#             if j>=1\n",
    "#                 aa=creacion_aniquilacion(j-1,j,v,k)\n",
    "#                 fila.append(aa[0])\n",
    "#                 columna.append(k)\n",
    "#                 valoresH.append((-J)*aa[1])\n",
    "#             else\n",
    "#                 aa=creacion_aniquilacion(M-1,j,v,k)\n",
    "#                 fila.append(aa[0])\n",
    "#                 columna.append(k)\n",
    "#                 valoresH.append((-J)*aa[1])   \n",
    "#             end\n",
    "#         end \n",
    "#     end \n",
    "# end\n",
    "    \n",
    "# row = np.array(fila)\n",
    "# col = np.array(columna)\n",
    "# data = np.array(valoresH)\n",
    "# sparseMatrix = csr_matrix((data, (row, col)),  shape = (D, D))\n",
    "# spy(sparseMatrix)"
   ]
  },
  {
   "cell_type": "code",
   "execution_count": 15,
   "id": "03360370",
   "metadata": {},
   "outputs": [
    {
     "data": {
      "text/plain": [
       "3×3 SparseMatrixCSC{Int64, Int64} with 4 stored entries:\n",
       " 0  ⋅  1\n",
       " ⋅  2  ⋅\n",
       " ⋅  ⋅  0"
      ]
     },
     "execution_count": 15,
     "metadata": {},
     "output_type": "execute_result"
    }
   ],
   "source": [
    "#Ejemplo sparce\n",
    "A = sparse([1, 1, 2, 3], [1, 3, 2, 3], [0, 1, 2, 0])"
   ]
  },
  {
   "cell_type": "code",
   "execution_count": 16,
   "id": "9b6f289a",
   "metadata": {},
   "outputs": [
    {
     "data": {
      "text/plain": [
       "     \u001b[38;5;8m┌─────┐\u001b[0m    \n",
       "   \u001b[38;5;8m1\u001b[0m \u001b[38;5;8m│\u001b[0m⠀⠀⠀\u001b[38;5;1m⠠\u001b[0m⠀\u001b[38;5;8m│\u001b[0m \u001b[38;5;1m> 0\u001b[0m\n",
       "   \u001b[38;5;8m3\u001b[0m \u001b[38;5;8m│\u001b[0m⠀⠀\u001b[38;5;1m⠈\u001b[0m⠀⠀\u001b[38;5;8m│\u001b[0m \u001b[38;5;4m< 0\u001b[0m\n",
       "     \u001b[38;5;8m└─────┘\u001b[0m    \n",
       "     ⠀\u001b[38;5;8m1\u001b[0m⠀\u001b[38;5;8m\u001b[0m⠀⠀\u001b[38;5;8m3\u001b[0m⠀    \n",
       "     2 nonzeros    "
      ]
     },
     "execution_count": 16,
     "metadata": {},
     "output_type": "execute_result"
    }
   ],
   "source": [
    "spy(A)"
   ]
  },
  {
   "cell_type": "code",
   "execution_count": null,
   "id": "233894ff",
   "metadata": {},
   "outputs": [],
   "source": []
  }
 ],
 "metadata": {
  "kernelspec": {
   "display_name": "Julia 1.6.6",
   "language": "julia",
   "name": "julia-1.6"
  },
  "language_info": {
   "file_extension": ".jl",
   "mimetype": "application/julia",
   "name": "julia",
   "version": "1.6.6"
  }
 },
 "nbformat": 4,
 "nbformat_minor": 5
}
